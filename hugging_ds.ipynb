{
 "cells": [
  {
   "cell_type": "code",
   "id": "initial_id",
   "metadata": {
    "collapsed": true,
    "ExecuteTime": {
     "end_time": "2025-06-16T17:11:23.413179Z",
     "start_time": "2025-06-16T17:11:19.239830Z"
    }
   },
   "source": [
    "from datasets import load_dataset\n",
    "\n",
    "dataset = load_dataset(\"emotion\", split=\"train+validation+test\")\n",
    "\n",
    "# First glance at data\n",
    "print(dataset[0])\n",
    "print(f\"Total samples: {len(dataset)}\")\n",
    "\n"
   ],
   "outputs": [
    {
     "name": "stdout",
     "output_type": "stream",
     "text": [
      "{'text': 'i didnt feel humiliated', 'label': 0}\n",
      "Total samples: 20000\n"
     ]
    }
   ],
   "execution_count": 11
  },
  {
   "metadata": {
    "ExecuteTime": {
     "end_time": "2025-06-16T17:20:01.859187Z",
     "start_time": "2025-06-16T17:20:01.464075Z"
    }
   },
   "cell_type": "code",
   "source": [
    "import pandas as pd\n",
    "\n",
    "# Map labels number to string\n",
    "label_names = dataset.features[\"label\"].names\n",
    "\n",
    "# Example\n",
    "print(f\"Label 0 = {label_names[0]}\")\n",
    "# Output: Label 0 = sadness\n",
    "\n",
    "# Possible to add emotion feature\n",
    "dataset = dataset.map(lambda x: {\"emotion\": label_names[x[\"label\"]]})\n",
    "\n",
    "df = pd.DataFrame(dataset)\n",
    "print(df.head())\n",
    "\n",
    "# print(dataset.column_names)\n"
   ],
   "id": "7e92a793299dd81a",
   "outputs": [
    {
     "name": "stdout",
     "output_type": "stream",
     "text": [
      "Label 0 = sadness\n"
     ]
    },
    {
     "data": {
      "text/plain": [
       "Map:   0%|          | 0/20000 [00:00<?, ? examples/s]"
      ],
      "application/vnd.jupyter.widget-view+json": {
       "version_major": 2,
       "version_minor": 0,
       "model_id": "116fa901a141474aa9ac7c041aa206dd"
      }
     },
     "metadata": {},
     "output_type": "display_data"
    },
    {
     "name": "stdout",
     "output_type": "stream",
     "text": [
      "                                                text  label  emotion\n",
      "0                            i didnt feel humiliated      0  sadness\n",
      "1  i can go from feeling so hopeless to so damned...      0  sadness\n",
      "2   im grabbing a minute to post i feel greedy wrong      3    anger\n",
      "3  i am ever feeling nostalgic about the fireplac...      2     love\n",
      "4                               i am feeling grouchy      3    anger\n",
      "['text', 'label', 'emotion']\n"
     ]
    }
   ],
   "execution_count": 17
  },
  {
   "metadata": {},
   "cell_type": "code",
   "outputs": [],
   "execution_count": null,
   "source": "",
   "id": "aec174e4eed239e9"
  }
 ],
 "metadata": {
  "kernelspec": {
   "display_name": "Python 3",
   "language": "python",
   "name": "python3"
  },
  "language_info": {
   "codemirror_mode": {
    "name": "ipython",
    "version": 2
   },
   "file_extension": ".py",
   "mimetype": "text/x-python",
   "name": "python",
   "nbconvert_exporter": "python",
   "pygments_lexer": "ipython2",
   "version": "2.7.6"
  }
 },
 "nbformat": 4,
 "nbformat_minor": 5
}
