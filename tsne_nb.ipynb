{
 "cells": [
  {
   "cell_type": "code",
   "id": "initial_id",
   "metadata": {
    "collapsed": true,
    "ExecuteTime": {
     "end_time": "2025-05-28T18:08:20.608384Z",
     "start_time": "2025-05-28T18:08:19.716882Z"
    }
   },
   "source": [
    "import argparse\n",
    "import time\n",
    "\n",
    "import matplotlib.pyplot as plt\n",
    "import numpy as np\n",
    "from scipy.spatial.distance import pdist, squareform\n",
    "from sklearn.datasets import fetch_openml\n",
    "from sklearn.manifold import TSNE\n",
    "from sklearn.preprocessing import MinMaxScaler\n",
    "import pandas"
   ],
   "outputs": [],
   "execution_count": 2
  },
  {
   "metadata": {
    "ExecuteTime": {
     "end_time": "2025-05-28T18:10:46.911418Z",
     "start_time": "2025-05-28T18:08:33.710159Z"
    }
   },
   "cell_type": "code",
   "source": [
    "# Parse command-line arguments\n",
    "parser = argparse.ArgumentParser(description=\"t-SNE visualization of MNIST dataset\")\n",
    "parser.add_argument(\n",
    "    \"--n-samples\", type=int, default=10000, help=\"Number of samples to use\"\n",
    ")\n",
    "parser.add_argument(\n",
    "    \"--perplexity\",\n",
    "    type=float,\n",
    "    default=30,\n",
    "    help=\"Perplexity value for main visualization\",\n",
    ")\n",
    "parser.add_argument(\n",
    "    \"--compare-perplexity\",\n",
    "    action=\"store_true\",\n",
    "    help=\"Enable perplexity comparison visualization\",\n",
    ")\n",
    "parser.add_argument(\n",
    "    \"--perplexity-values\",\n",
    "    type=str,\n",
    "    default=\"5,30,50,100\",\n",
    "    help=\"Comma-separated list of perplexity values for comparison\",\n",
    ")\n",
    "parser.add_argument(\"--output\", type=str, help=\"Path to save visualization\")\n",
    "parser.add_argument(\n",
    "    \"--use-local\", action=\"store_true\", help=\"Use local t-SNE implementation\"\n",
    ")\n",
    "parser.add_argument(\n",
    "    \"--learning-rate\", type=float, default=200.0, help=\"Learning rate for local t-SNE\"\n",
    ")\n",
    "\n",
    "args = parser.parse_args()"
   ],
   "id": "60fbc8b396636310",
   "outputs": [
    {
     "name": "stderr",
     "output_type": "stream",
     "text": [
      "usage: ipykernel_launcher.py [-h] [--n-samples N_SAMPLES]\n",
      "                             [--perplexity PERPLEXITY] [--compare-perplexity]\n",
      "                             [--perplexity-values PERPLEXITY_VALUES]\n",
      "                             [--output OUTPUT] [--use-local]\n",
      "                             [--learning-rate LEARNING_RATE]\n",
      "ipykernel_launcher.py: error: unrecognized arguments: -f /Users/dpeleg/Library/Jupyter/runtime/kernel-631ced4f-a329-4c44-89c3-7bf8bbf27744.json\n"
     ]
    },
    {
     "ename": "SystemExit",
     "evalue": "2",
     "output_type": "error",
     "traceback": [
      "An exception has occurred, use %tb to see the full traceback.\n",
      "\u001B[31mSystemExit\u001B[39m\u001B[31m:\u001B[39m 2\n"
     ]
    },
    {
     "name": "stderr",
     "output_type": "stream",
     "text": [
      "/Users/dpeleg/Library/Python/3.12/lib/python/site-packages/IPython/core/interactiveshell.py:3678: UserWarning: To exit: use 'exit', 'quit', or Ctrl-D.\n",
      "  warn(\"To exit: use 'exit', 'quit', or Ctrl-D.\", stacklevel=1)\n"
     ]
    }
   ],
   "execution_count": 4
  },
  {
   "metadata": {},
   "cell_type": "code",
   "outputs": [],
   "execution_count": null,
   "source": "",
   "id": "ad60b5c55d5158bb"
  }
 ],
 "metadata": {
  "kernelspec": {
   "display_name": "Python 3",
   "language": "python",
   "name": "python3"
  },
  "language_info": {
   "codemirror_mode": {
    "name": "ipython",
    "version": 2
   },
   "file_extension": ".py",
   "mimetype": "text/x-python",
   "name": "python",
   "nbconvert_exporter": "python",
   "pygments_lexer": "ipython2",
   "version": "2.7.6"
  }
 },
 "nbformat": 4,
 "nbformat_minor": 5
}
